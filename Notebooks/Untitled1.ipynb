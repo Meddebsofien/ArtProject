{
 "cells": [
  {
   "cell_type": "code",
   "execution_count": 4,
   "id": "8782a96a-abc6-4844-b75c-31504dd9a272",
   "metadata": {},
   "outputs": [
    {
     "name": "stdout",
     "output_type": "stream",
     "text": [
      "Error: 503\n",
      "{'error': 'Model yisol/IDM-VTON is currently loading', 'estimated_time': 656.1625366210938}\n"
     ]
    }
   ],
   "source": []
  },
  {
   "cell_type": "code",
   "execution_count": 7,
   "id": "256a70a2-5d79-4d62-99da-35e2e7bafbad",
   "metadata": {},
   "outputs": [
    {
     "name": "stdout",
     "output_type": "stream",
     "text": [
      "Collecting diffusers\n",
      "  Downloading diffusers-0.31.0-py3-none-any.whl.metadata (18 kB)\n",
      "Collecting transformers\n",
      "  Downloading transformers-4.46.0-py3-none-any.whl.metadata (44 kB)\n",
      "Requirement already satisfied: torch in c:\\users\\sofyen meddeb\\desktop\\venv\\lib\\site-packages (2.4.1)\n",
      "Collecting accelerate\n",
      "  Downloading accelerate-1.0.1-py3-none-any.whl.metadata (19 kB)\n",
      "Collecting importlib-metadata (from diffusers)\n",
      "  Downloading importlib_metadata-8.5.0-py3-none-any.whl.metadata (4.8 kB)\n",
      "Requirement already satisfied: filelock in c:\\users\\sofyen meddeb\\desktop\\venv\\lib\\site-packages (from diffusers) (3.16.1)\n",
      "Requirement already satisfied: huggingface-hub>=0.23.2 in c:\\users\\sofyen meddeb\\desktop\\venv\\lib\\site-packages (from diffusers) (0.26.1)\n",
      "Requirement already satisfied: numpy in c:\\users\\sofyen meddeb\\desktop\\venv\\lib\\site-packages (from diffusers) (1.26.4)\n",
      "Collecting regex!=2019.12.17 (from diffusers)\n",
      "  Downloading regex-2024.9.11-cp311-cp311-win_amd64.whl.metadata (41 kB)\n",
      "Requirement already satisfied: requests in c:\\users\\sofyen meddeb\\desktop\\venv\\lib\\site-packages (from diffusers) (2.32.3)\n",
      "Collecting safetensors>=0.3.1 (from diffusers)\n",
      "  Using cached safetensors-0.4.5-cp311-none-win_amd64.whl.metadata (3.9 kB)\n",
      "Requirement already satisfied: Pillow in c:\\users\\sofyen meddeb\\desktop\\venv\\lib\\site-packages (from diffusers) (11.0.0)\n",
      "Requirement already satisfied: packaging>=20.0 in c:\\users\\sofyen meddeb\\desktop\\venv\\lib\\site-packages (from transformers) (24.1)\n",
      "Requirement already satisfied: pyyaml>=5.1 in c:\\users\\sofyen meddeb\\desktop\\venv\\lib\\site-packages (from transformers) (6.0.2)\n",
      "Collecting tokenizers<0.21,>=0.20 (from transformers)\n",
      "  Downloading tokenizers-0.20.1-cp311-none-win_amd64.whl.metadata (6.9 kB)\n",
      "Requirement already satisfied: tqdm>=4.27 in c:\\users\\sofyen meddeb\\desktop\\venv\\lib\\site-packages (from transformers) (4.66.5)\n",
      "Requirement already satisfied: typing-extensions>=4.8.0 in c:\\users\\sofyen meddeb\\desktop\\venv\\lib\\site-packages (from torch) (4.12.2)\n",
      "Requirement already satisfied: sympy in c:\\users\\sofyen meddeb\\desktop\\venv\\lib\\site-packages (from torch) (1.13.3)\n",
      "Requirement already satisfied: networkx in c:\\users\\sofyen meddeb\\desktop\\venv\\lib\\site-packages (from torch) (3.4.1)\n",
      "Requirement already satisfied: jinja2 in c:\\users\\sofyen meddeb\\desktop\\venv\\lib\\site-packages (from torch) (3.1.4)\n",
      "Requirement already satisfied: fsspec in c:\\users\\sofyen meddeb\\desktop\\venv\\lib\\site-packages (from torch) (2024.9.0)\n",
      "Requirement already satisfied: psutil in c:\\users\\sofyen meddeb\\desktop\\venv\\lib\\site-packages (from accelerate) (6.1.0)\n",
      "Requirement already satisfied: colorama in c:\\users\\sofyen meddeb\\desktop\\venv\\lib\\site-packages (from tqdm>=4.27->transformers) (0.4.6)\n",
      "Collecting zipp>=3.20 (from importlib-metadata->diffusers)\n",
      "  Downloading zipp-3.20.2-py3-none-any.whl.metadata (3.7 kB)\n",
      "Requirement already satisfied: MarkupSafe>=2.0 in c:\\users\\sofyen meddeb\\desktop\\venv\\lib\\site-packages (from jinja2->torch) (3.0.1)\n",
      "Requirement already satisfied: charset-normalizer<4,>=2 in c:\\users\\sofyen meddeb\\desktop\\venv\\lib\\site-packages (from requests->diffusers) (3.4.0)\n",
      "Requirement already satisfied: idna<4,>=2.5 in c:\\users\\sofyen meddeb\\desktop\\venv\\lib\\site-packages (from requests->diffusers) (3.10)\n",
      "Requirement already satisfied: urllib3<3,>=1.21.1 in c:\\users\\sofyen meddeb\\desktop\\venv\\lib\\site-packages (from requests->diffusers) (2.2.3)\n",
      "Requirement already satisfied: certifi>=2017.4.17 in c:\\users\\sofyen meddeb\\desktop\\venv\\lib\\site-packages (from requests->diffusers) (2024.8.30)\n",
      "Requirement already satisfied: mpmath<1.4,>=1.1.0 in c:\\users\\sofyen meddeb\\desktop\\venv\\lib\\site-packages (from sympy->torch) (1.3.0)\n",
      "Downloading diffusers-0.31.0-py3-none-any.whl (2.9 MB)\n",
      "   ---------------------------------------- 0.0/2.9 MB ? eta -:--:--\n",
      "   ---------------------------------------- 0.0/2.9 MB ? eta -:--:--\n",
      "   --- ------------------------------------ 0.3/2.9 MB ? eta -:--:--\n",
      "   ------- -------------------------------- 0.5/2.9 MB 1.3 MB/s eta 0:00:02\n",
      "   -------------- ------------------------- 1.0/2.9 MB 1.3 MB/s eta 0:00:02\n",
      "   ------------------ --------------------- 1.3/2.9 MB 1.3 MB/s eta 0:00:02\n",
      "   --------------------- ------------------ 1.6/2.9 MB 1.3 MB/s eta 0:00:02\n",
      "   ------------------------- -------------- 1.8/2.9 MB 1.3 MB/s eta 0:00:01\n",
      "   ------------------------- -------------- 1.8/2.9 MB 1.3 MB/s eta 0:00:01\n",
      "   ----------------------------- ---------- 2.1/2.9 MB 1.2 MB/s eta 0:00:01\n",
      "   -------------------------------- ------- 2.4/2.9 MB 1.2 MB/s eta 0:00:01\n",
      "   ------------------------------------ --- 2.6/2.9 MB 1.1 MB/s eta 0:00:01\n",
      "   ------------------------------------ --- 2.6/2.9 MB 1.1 MB/s eta 0:00:01\n",
      "   ------------------------------------ --- 2.6/2.9 MB 1.1 MB/s eta 0:00:01\n",
      "   ---------------------------------------- 2.9/2.9 MB 988.8 kB/s eta 0:00:00\n",
      "Downloading transformers-4.46.0-py3-none-any.whl (10.0 MB)\n",
      "   ---------------------------------------- 0.0/10.0 MB ? eta -:--:--\n",
      "   ---------------------------------------- 0.0/10.0 MB ? eta -:--:--\n",
      "   -- ------------------------------------- 0.5/10.0 MB 1.3 MB/s eta 0:00:08\n",
      "   -- ------------------------------------- 0.5/10.0 MB 1.3 MB/s eta 0:00:08\n",
      "   --- ------------------------------------ 0.8/10.0 MB 1.0 MB/s eta 0:00:09\n",
      "   ---- ----------------------------------- 1.0/10.0 MB 1.0 MB/s eta 0:00:09\n",
      "   ----- ---------------------------------- 1.3/10.0 MB 1.0 MB/s eta 0:00:09\n",
      "   ----- ---------------------------------- 1.3/10.0 MB 1.0 MB/s eta 0:00:09\n",
      "   ----- ---------------------------------- 1.3/10.0 MB 1.0 MB/s eta 0:00:09\n",
      "   ----- ---------------------------------- 1.3/10.0 MB 1.0 MB/s eta 0:00:09\n",
      "   ------ --------------------------------- 1.6/10.0 MB 755.5 kB/s eta 0:00:12\n",
      "   ------ --------------------------------- 1.6/10.0 MB 755.5 kB/s eta 0:00:12\n",
      "   ------ --------------------------------- 1.6/10.0 MB 755.5 kB/s eta 0:00:12\n",
      "   ------- -------------------------------- 1.8/10.0 MB 649.4 kB/s eta 0:00:13\n",
      "   ------- -------------------------------- 1.8/10.0 MB 649.4 kB/s eta 0:00:13\n",
      "   -------- ------------------------------- 2.1/10.0 MB 645.2 kB/s eta 0:00:13\n",
      "   -------- ------------------------------- 2.1/10.0 MB 645.2 kB/s eta 0:00:13\n",
      "   --------- ------------------------------ 2.4/10.0 MB 645.3 kB/s eta 0:00:12\n",
      "   ---------- ----------------------------- 2.6/10.0 MB 656.5 kB/s eta 0:00:12\n",
      "   ---------- ----------------------------- 2.6/10.0 MB 656.5 kB/s eta 0:00:12\n",
      "   ----------- ---------------------------- 2.9/10.0 MB 652.7 kB/s eta 0:00:11\n",
      "   ----------- ---------------------------- 2.9/10.0 MB 652.7 kB/s eta 0:00:11\n",
      "   ------------ --------------------------- 3.1/10.0 MB 666.3 kB/s eta 0:00:11\n",
      "   ------------- -------------------------- 3.4/10.0 MB 682.4 kB/s eta 0:00:10\n",
      "   ------------- -------------------------- 3.4/10.0 MB 682.4 kB/s eta 0:00:10\n",
      "   -------------- ------------------------- 3.7/10.0 MB 688.0 kB/s eta 0:00:10\n",
      "   --------------- ------------------------ 3.9/10.0 MB 694.8 kB/s eta 0:00:09\n",
      "   --------------- ------------------------ 3.9/10.0 MB 694.8 kB/s eta 0:00:09\n",
      "   --------------- ------------------------ 3.9/10.0 MB 694.8 kB/s eta 0:00:09\n",
      "   ---------------- ----------------------- 4.2/10.0 MB 662.2 kB/s eta 0:00:09\n",
      "   ---------------- ----------------------- 4.2/10.0 MB 662.2 kB/s eta 0:00:09\n",
      "   ---------------- ----------------------- 4.2/10.0 MB 662.2 kB/s eta 0:00:09\n",
      "   ---------------- ----------------------- 4.2/10.0 MB 662.2 kB/s eta 0:00:09\n",
      "   ---------------- ----------------------- 4.2/10.0 MB 662.2 kB/s eta 0:00:09\n",
      "   ---------------- ----------------------- 4.2/10.0 MB 662.2 kB/s eta 0:00:09\n",
      "   ----------------- ---------------------- 4.5/10.0 MB 583.5 kB/s eta 0:00:10\n",
      "   ----------------- ---------------------- 4.5/10.0 MB 583.5 kB/s eta 0:00:10\n",
      "   ----------------- ---------------------- 4.5/10.0 MB 583.5 kB/s eta 0:00:10\n",
      "   ----------------- ---------------------- 4.5/10.0 MB 583.5 kB/s eta 0:00:10\n",
      "   ----------------- ---------------------- 4.5/10.0 MB 583.5 kB/s eta 0:00:10\n",
      "   ------------------ --------------------- 4.7/10.0 MB 540.2 kB/s eta 0:00:10\n",
      "   ------------------ --------------------- 4.7/10.0 MB 540.2 kB/s eta 0:00:10\n",
      "   ------------------ --------------------- 4.7/10.0 MB 540.2 kB/s eta 0:00:10\n",
      "   ------------------- -------------------- 5.0/10.0 MB 534.5 kB/s eta 0:00:10\n",
      "   ------------------- -------------------- 5.0/10.0 MB 534.5 kB/s eta 0:00:10\n",
      "   -------------------- ------------------- 5.2/10.0 MB 541.2 kB/s eta 0:00:09\n",
      "   --------------------- ------------------ 5.5/10.0 MB 549.2 kB/s eta 0:00:09\n",
      "   --------------------- ------------------ 5.5/10.0 MB 549.2 kB/s eta 0:00:09\n",
      "   ---------------------- ----------------- 5.8/10.0 MB 561.0 kB/s eta 0:00:08\n",
      "   ------------------------ --------------- 6.0/10.0 MB 567.8 kB/s eta 0:00:08\n",
      "   ------------------------- -------------- 6.3/10.0 MB 580.2 kB/s eta 0:00:07\n",
      "   -------------------------- ------------- 6.6/10.0 MB 593.0 kB/s eta 0:00:06\n",
      "   --------------------------- ------------ 6.8/10.0 MB 606.1 kB/s eta 0:00:06\n",
      "   ---------------------------- ----------- 7.1/10.0 MB 618.7 kB/s eta 0:00:05\n",
      "   ----------------------------- ---------- 7.3/10.0 MB 630.9 kB/s eta 0:00:05\n",
      "   ------------------------------ --------- 7.6/10.0 MB 642.6 kB/s eta 0:00:04\n",
      "   ------------------------------- -------- 7.9/10.0 MB 654.0 kB/s eta 0:00:04\n",
      "   -------------------------------- ------- 8.1/10.0 MB 664.9 kB/s eta 0:00:03\n",
      "   --------------------------------- ------ 8.4/10.0 MB 675.4 kB/s eta 0:00:03\n",
      "   ---------------------------------- ----- 8.7/10.0 MB 684.8 kB/s eta 0:00:03\n",
      "   ----------------------------------- ---- 8.9/10.0 MB 694.7 kB/s eta 0:00:02\n",
      "   ------------------------------------ --- 9.2/10.0 MB 704.2 kB/s eta 0:00:02\n",
      "   ------------------------------------- -- 9.4/10.0 MB 713.5 kB/s eta 0:00:01\n",
      "   -------------------------------------- - 9.7/10.0 MB 722.4 kB/s eta 0:00:01\n",
      "   ---------------------------------------- 10.0/10.0 MB 732.3 kB/s eta 0:00:00\n",
      "Downloading accelerate-1.0.1-py3-none-any.whl (330 kB)\n",
      "Downloading regex-2024.9.11-cp311-cp311-win_amd64.whl (274 kB)\n",
      "Using cached safetensors-0.4.5-cp311-none-win_amd64.whl (285 kB)\n",
      "Downloading tokenizers-0.20.1-cp311-none-win_amd64.whl (2.4 MB)\n",
      "   ---------------------------------------- 0.0/2.4 MB ? eta -:--:--\n",
      "   ---------------------------------------- 0.0/2.4 MB ? eta -:--:--\n",
      "   ---- ----------------------------------- 0.3/2.4 MB ? eta -:--:--\n",
      "   -------- ------------------------------- 0.5/2.4 MB 1.3 MB/s eta 0:00:02\n",
      "   ------------- -------------------------- 0.8/2.4 MB 1.1 MB/s eta 0:00:02\n",
      "   ----------------- ---------------------- 1.0/2.4 MB 1.3 MB/s eta 0:00:02\n",
      "   --------------------- ------------------ 1.3/2.4 MB 1.2 MB/s eta 0:00:01\n",
      "   --------------------- ------------------ 1.3/2.4 MB 1.2 MB/s eta 0:00:01\n",
      "   -------------------------- ------------- 1.6/2.4 MB 964.5 kB/s eta 0:00:01\n",
      "   -------------------------- ------------- 1.6/2.4 MB 964.5 kB/s eta 0:00:01\n",
      "   ------------------------------ --------- 1.8/2.4 MB 853.4 kB/s eta 0:00:01\n",
      "   ------------------------------ --------- 1.8/2.4 MB 853.4 kB/s eta 0:00:01\n",
      "   ------------------------------ --------- 1.8/2.4 MB 853.4 kB/s eta 0:00:01\n",
      "   ----------------------------------- ---- 2.1/2.4 MB 804.5 kB/s eta 0:00:01\n",
      "   ---------------------------------------- 2.4/2.4 MB 790.0 kB/s eta 0:00:00\n",
      "Downloading importlib_metadata-8.5.0-py3-none-any.whl (26 kB)\n",
      "Downloading zipp-3.20.2-py3-none-any.whl (9.2 kB)\n",
      "Installing collected packages: zipp, safetensors, regex, importlib-metadata, tokenizers, diffusers, accelerate, transformers\n",
      "Successfully installed accelerate-1.0.1 diffusers-0.31.0 importlib-metadata-8.5.0 regex-2024.9.11 safetensors-0.4.5 tokenizers-0.20.1 transformers-4.46.0 zipp-3.20.2\n"
     ]
    }
   ],
   "source": [
    "!pip install diffusers transformers torch accelerate\n"
   ]
  },
  {
   "cell_type": "code",
   "execution_count": 8,
   "id": "d1f1f746-24ed-478b-a7bd-d767c7a1bc9e",
   "metadata": {},
   "outputs": [
    {
     "name": "stderr",
     "output_type": "stream",
     "text": [
      "The cache for model files in Transformers v4.22.0 has been updated. Migrating your old cache. This is a one-time only operation. You can interrupt this and resume the migration later on by calling `transformers.utils.move_cache()`.\n"
     ]
    },
    {
     "data": {
      "application/vnd.jupyter.widget-view+json": {
       "model_id": "553dc03bef464edaa94e97903d61c661",
       "version_major": 2,
       "version_minor": 0
      },
      "text/plain": [
       "0it [00:00, ?it/s]"
      ]
     },
     "metadata": {},
     "output_type": "display_data"
    }
   ],
   "source": [
    "import torch\n",
    "from diffusers import StableDiffusionInstructPix2PixPipeline\n",
    "from diffusers.utils import load_image\n"
   ]
  },
  {
   "cell_type": "code",
   "execution_count": null,
   "id": "30c25f23-3cc0-4b7b-ab9f-862802b91532",
   "metadata": {},
   "outputs": [
    {
     "data": {
      "application/vnd.jupyter.widget-view+json": {
       "model_id": "f7061a6163da4564b4fc958ca44fdcbe",
       "version_major": 2,
       "version_minor": 0
      },
      "text/plain": [
       "model_index.json:   0%|          | 0.00/616 [00:00<?, ?B/s]"
      ]
     },
     "metadata": {},
     "output_type": "display_data"
    },
    {
     "name": "stderr",
     "output_type": "stream",
     "text": [
      "C:\\Users\\Sofyen Meddeb\\Desktop\\venv\\Lib\\site-packages\\huggingface_hub\\file_download.py:139: UserWarning: `huggingface_hub` cache-system uses symlinks by default to efficiently store duplicated files but your machine does not support them in C:\\Users\\Sofyen Meddeb\\.cache\\huggingface\\hub\\models--instruction-tuning-sd--cartoonizer. Caching files will still work but in a degraded version that might require more space on your disk. This warning can be disabled by setting the `HF_HUB_DISABLE_SYMLINKS_WARNING` environment variable. For more details, see https://huggingface.co/docs/huggingface_hub/how-to-cache#limitations.\n",
      "To support symlinks on Windows, you either need to activate Developer Mode or to run Python as an administrator. In order to activate developer mode, see this article: https://docs.microsoft.com/en-us/windows/apps/get-started/enable-your-device-for-development\n",
      "  warnings.warn(message)\n"
     ]
    },
    {
     "data": {
      "application/vnd.jupyter.widget-view+json": {
       "model_id": "9087ecbf3cb54599b57bb0a9370bac68",
       "version_major": 2,
       "version_minor": 0
      },
      "text/plain": [
       "Fetching 15 files:   0%|          | 0/15 [00:00<?, ?it/s]"
      ]
     },
     "metadata": {},
     "output_type": "display_data"
    },
    {
     "data": {
      "application/vnd.jupyter.widget-view+json": {
       "model_id": "8c716d1ac3034f5986a99ba1d1164c8c",
       "version_major": 2,
       "version_minor": 0
      },
      "text/plain": [
       "(…)ature_extractor/preprocessor_config.json:   0%|          | 0.00/518 [00:00<?, ?B/s]"
      ]
     },
     "metadata": {},
     "output_type": "display_data"
    },
    {
     "data": {
      "application/vnd.jupyter.widget-view+json": {
       "model_id": "3edaf16e7e704c52bae7e2c860b07148",
       "version_major": 2,
       "version_minor": 0
      },
      "text/plain": [
       "scheduler/scheduler_config.json:   0%|          | 0.00/569 [00:00<?, ?B/s]"
      ]
     },
     "metadata": {},
     "output_type": "display_data"
    },
    {
     "data": {
      "application/vnd.jupyter.widget-view+json": {
       "model_id": "2c8d16a444c04e43a2d03768fa438f0b",
       "version_major": 2,
       "version_minor": 0
      },
      "text/plain": [
       "safety_checker/config.json:   0%|          | 0.00/5.02k [00:00<?, ?B/s]"
      ]
     },
     "metadata": {},
     "output_type": "display_data"
    },
    {
     "data": {
      "application/vnd.jupyter.widget-view+json": {
       "model_id": "66e64b611f4645b2a8f0df0b9e536163",
       "version_major": 2,
       "version_minor": 0
      },
      "text/plain": [
       "tokenizer/merges.txt:   0%|          | 0.00/525k [00:00<?, ?B/s]"
      ]
     },
     "metadata": {},
     "output_type": "display_data"
    },
    {
     "data": {
      "application/vnd.jupyter.widget-view+json": {
       "model_id": "4ee983a0784049a9b71fcfd48117ce7a",
       "version_major": 2,
       "version_minor": 0
      },
      "text/plain": [
       "tokenizer/special_tokens_map.json:   0%|          | 0.00/472 [00:00<?, ?B/s]"
      ]
     },
     "metadata": {},
     "output_type": "display_data"
    },
    {
     "data": {
      "application/vnd.jupyter.widget-view+json": {
       "model_id": "eb9c51156c544850ab8a96fac24fa867",
       "version_major": 2,
       "version_minor": 0
      },
      "text/plain": [
       "text_encoder/config.json:   0%|          | 0.00/748 [00:00<?, ?B/s]"
      ]
     },
     "metadata": {},
     "output_type": "display_data"
    },
    {
     "data": {
      "application/vnd.jupyter.widget-view+json": {
       "model_id": "9cbe1e3316e1408791baf95e5916124a",
       "version_major": 2,
       "version_minor": 0
      },
      "text/plain": [
       "pytorch_model.bin:   0%|          | 0.00/492M [00:00<?, ?B/s]"
      ]
     },
     "metadata": {},
     "output_type": "display_data"
    },
    {
     "data": {
      "application/vnd.jupyter.widget-view+json": {
       "model_id": "afe45bcab40144febec464b5139f0d44",
       "version_major": 2,
       "version_minor": 0
      },
      "text/plain": [
       "tokenizer/tokenizer_config.json:   0%|          | 0.00/939 [00:00<?, ?B/s]"
      ]
     },
     "metadata": {},
     "output_type": "display_data"
    },
    {
     "data": {
      "application/vnd.jupyter.widget-view+json": {
       "model_id": "3799e35d739a4013baebc8b45ae3cc42",
       "version_major": 2,
       "version_minor": 0
      },
      "text/plain": [
       "unet/config.json:   0%|          | 0.00/1.40k [00:00<?, ?B/s]"
      ]
     },
     "metadata": {},
     "output_type": "display_data"
    },
    {
     "data": {
      "application/vnd.jupyter.widget-view+json": {
       "model_id": "fb07e9533244437da259687c306079f1",
       "version_major": 2,
       "version_minor": 0
      },
      "text/plain": [
       "tokenizer/vocab.json:   0%|          | 0.00/1.06M [00:00<?, ?B/s]"
      ]
     },
     "metadata": {},
     "output_type": "display_data"
    },
    {
     "data": {
      "application/vnd.jupyter.widget-view+json": {
       "model_id": "5e030bd79448474f84456246ea9c6674",
       "version_major": 2,
       "version_minor": 0
      },
      "text/plain": [
       "vae/config.json:   0%|          | 0.00/761 [00:00<?, ?B/s]"
      ]
     },
     "metadata": {},
     "output_type": "display_data"
    },
    {
     "data": {
      "application/vnd.jupyter.widget-view+json": {
       "model_id": "d0d2523d658f4f02acae132e493bae56",
       "version_major": 2,
       "version_minor": 0
      },
      "text/plain": [
       "pytorch_model.bin:   0%|          | 0.00/1.22G [00:00<?, ?B/s]"
      ]
     },
     "metadata": {},
     "output_type": "display_data"
    },
    {
     "data": {
      "application/vnd.jupyter.widget-view+json": {
       "model_id": "bbe973b0011f42e2850cd48b759f96d9",
       "version_major": 2,
       "version_minor": 0
      },
      "text/plain": [
       "diffusion_pytorch_model.bin:   0%|          | 0.00/3.44G [00:00<?, ?B/s]"
      ]
     },
     "metadata": {},
     "output_type": "display_data"
    },
    {
     "data": {
      "application/vnd.jupyter.widget-view+json": {
       "model_id": "7dac8942fd7c450b9ec54631298cf456",
       "version_major": 2,
       "version_minor": 0
      },
      "text/plain": [
       "diffusion_pytorch_model.bin:   0%|          | 0.00/335M [00:00<?, ?B/s]"
      ]
     },
     "metadata": {},
     "output_type": "display_data"
    },
    {
     "name": "stderr",
     "output_type": "stream",
     "text": [
      "Error while downloading from https://cdn-lfs.hf.co/repos/c7/cf/c7cf358e3378422e2eb9eb4b1a5e43a171c70946f7eb720525fa364836795b61/6723bacd3c60b11a2b4e6007338a54c6964c210116c3ccecb3bfc80e218afc8f?response-content-disposition=inline%3B+filename*%3DUTF-8%27%27diffusion_pytorch_model.bin%3B+filename%3D%22diffusion_pytorch_model.bin%22%3B&response-content-type=application%2Foctet-stream&Expires=1730371156&Policy=eyJTdGF0ZW1lbnQiOlt7IkNvbmRpdGlvbiI6eyJEYXRlTGVzc1RoYW4iOnsiQVdTOkVwb2NoVGltZSI6MTczMDM3MTE1Nn19LCJSZXNvdXJjZSI6Imh0dHBzOi8vY2RuLWxmcy5oZi5jby9yZXBvcy9jNy9jZi9jN2NmMzU4ZTMzNzg0MjJlMmViOWViNGIxYTVlNDNhMTcxYzcwOTQ2ZjdlYjcyMDUyNWZhMzY0ODM2Nzk1YjYxLzY3MjNiYWNkM2M2MGIxMWEyYjRlNjAwNzMzOGE1NGM2OTY0YzIxMDExNmMzY2NlY2IzYmZjODBlMjE4YWZjOGY%7EcmVzcG9uc2UtY29udGVudC1kaXNwb3NpdGlvbj0qJnJlc3BvbnNlLWNvbnRlbnQtdHlwZT0qIn1dfQ__&Signature=MfHlAUBb2NwUO2HSGw9T7nlybZA0kxFsrDVUxiiykFOT-ejpsxMMjRA9qUL179QuPGoABtxnDbmdCc60dOvRQCtRhZDFDM0MaPhXP1ANVlj8gFm7LhU6YvsOPU9M8MPYJS7dnbJ1CxpejY7u3OslluCrsWxIoxOcBQT4hvn44PH3R87KHDNDKSp94ZXFtRUYnlYNwmw7StCp4UDL3YbJva0DBfvHTiA2nZOT7E%7EiKEVpyMQ5RYqpCScYYNVscOKBbRdM4BkK9fqQmkdlXlWoWf23oBUJRlCsw0fX2I1bcHHAv3ZTBxzi9UcH2TjFYVRDNpHfMeEVyhmiDEWiN-ffnQ__&Key-Pair-Id=K3RPWS32NSSJCE: HTTPSConnectionPool(host='cdn-lfs.hf.co', port=443): Read timed out.\n",
      "Trying to resume download...\n"
     ]
    },
    {
     "data": {
      "application/vnd.jupyter.widget-view+json": {
       "model_id": "56d70b5998ab45fabb3ecfc21218c96d",
       "version_major": 2,
       "version_minor": 0
      },
      "text/plain": [
       "diffusion_pytorch_model.bin:  41%|####      | 136M/335M [00:00<?, ?B/s]"
      ]
     },
     "metadata": {},
     "output_type": "display_data"
    }
   ],
   "source": [
    "model_id = \"instruction-tuning-sd/cartoonizer\"\n",
    "\n",
    "# Charger le modèle avec le token d'authentification Hugging Face\n",
    "# Assure-toi de remplacer 'hf_xxxxxxxxxxxxxxxxxxxxxxxxxxxxxxx' par ton vrai token\n",
    "pipeline = StableDiffusionInstructPix2PixPipeline.from_pretrained(\n",
    "    model_id, \n",
    "    torch_dtype=torch.float16, \n",
    "    use_auth_token=\"hf_xxxxxxxxxxxxxxxxxxxxxxxxxxxxxxx\"\n",
    ").to(\"cuda\")  # Remplace par 'cpu' si tu n'as pas de GPU\n"
   ]
  },
  {
   "cell_type": "code",
   "execution_count": null,
   "id": "ed7724a8-0a08-4d2d-a1e3-16db4aad1a36",
   "metadata": {},
   "outputs": [],
   "source": []
  }
 ],
 "metadata": {
  "kernelspec": {
   "display_name": "Python 3 (ipykernel)",
   "language": "python",
   "name": "python3"
  },
  "language_info": {
   "codemirror_mode": {
    "name": "ipython",
    "version": 3
   },
   "file_extension": ".py",
   "mimetype": "text/x-python",
   "name": "python",
   "nbconvert_exporter": "python",
   "pygments_lexer": "ipython3",
   "version": "3.11.7"
  }
 },
 "nbformat": 4,
 "nbformat_minor": 5
}
