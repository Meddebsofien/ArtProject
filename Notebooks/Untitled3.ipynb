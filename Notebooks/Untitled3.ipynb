{
 "cells": [
  {
   "cell_type": "code",
   "execution_count": 10,
   "id": "cd41cfc6-6b6f-424c-ac45-ab2573da8813",
   "metadata": {},
   "outputs": [
    {
     "name": "stdout",
     "output_type": "stream",
     "text": [
      "Requirement already satisfied: diffusers in c:\\users\\sofyen meddeb\\desktop\\venv\\lib\\site-packages (0.31.0)\n",
      "Requirement already satisfied: transformers in c:\\users\\sofyen meddeb\\desktop\\venv\\lib\\site-packages (4.46.0)\n",
      "Requirement already satisfied: accelerate in c:\\users\\sofyen meddeb\\desktop\\venv\\lib\\site-packages (1.0.1)\n",
      "Requirement already satisfied: importlib-metadata in c:\\users\\sofyen meddeb\\desktop\\venv\\lib\\site-packages (from diffusers) (8.5.0)\n",
      "Requirement already satisfied: filelock in c:\\users\\sofyen meddeb\\desktop\\venv\\lib\\site-packages (from diffusers) (3.16.1)\n",
      "Requirement already satisfied: huggingface-hub>=0.23.2 in c:\\users\\sofyen meddeb\\desktop\\venv\\lib\\site-packages (from diffusers) (0.26.1)\n",
      "Requirement already satisfied: numpy in c:\\users\\sofyen meddeb\\desktop\\venv\\lib\\site-packages (from diffusers) (1.26.4)\n",
      "Requirement already satisfied: regex!=2019.12.17 in c:\\users\\sofyen meddeb\\desktop\\venv\\lib\\site-packages (from diffusers) (2024.9.11)\n",
      "Requirement already satisfied: requests in c:\\users\\sofyen meddeb\\desktop\\venv\\lib\\site-packages (from diffusers) (2.32.3)\n",
      "Requirement already satisfied: safetensors>=0.3.1 in c:\\users\\sofyen meddeb\\desktop\\venv\\lib\\site-packages (from diffusers) (0.4.5)\n",
      "Requirement already satisfied: Pillow in c:\\users\\sofyen meddeb\\desktop\\venv\\lib\\site-packages (from diffusers) (11.0.0)\n",
      "Requirement already satisfied: packaging>=20.0 in c:\\users\\sofyen meddeb\\desktop\\venv\\lib\\site-packages (from transformers) (24.1)\n",
      "Requirement already satisfied: pyyaml>=5.1 in c:\\users\\sofyen meddeb\\desktop\\venv\\lib\\site-packages (from transformers) (6.0.2)\n",
      "Requirement already satisfied: tokenizers<0.21,>=0.20 in c:\\users\\sofyen meddeb\\desktop\\venv\\lib\\site-packages (from transformers) (0.20.1)\n",
      "Requirement already satisfied: tqdm>=4.27 in c:\\users\\sofyen meddeb\\desktop\\venv\\lib\\site-packages (from transformers) (4.66.5)\n",
      "Requirement already satisfied: psutil in c:\\users\\sofyen meddeb\\desktop\\venv\\lib\\site-packages (from accelerate) (6.1.0)\n",
      "Requirement already satisfied: torch>=1.10.0 in c:\\users\\sofyen meddeb\\desktop\\venv\\lib\\site-packages (from accelerate) (2.5.0)\n",
      "Requirement already satisfied: fsspec>=2023.5.0 in c:\\users\\sofyen meddeb\\desktop\\venv\\lib\\site-packages (from huggingface-hub>=0.23.2->diffusers) (2024.9.0)\n",
      "Requirement already satisfied: typing-extensions>=3.7.4.3 in c:\\users\\sofyen meddeb\\desktop\\venv\\lib\\site-packages (from huggingface-hub>=0.23.2->diffusers) (4.12.2)\n",
      "Requirement already satisfied: networkx in c:\\users\\sofyen meddeb\\desktop\\venv\\lib\\site-packages (from torch>=1.10.0->accelerate) (3.4.1)\n",
      "Requirement already satisfied: jinja2 in c:\\users\\sofyen meddeb\\desktop\\venv\\lib\\site-packages (from torch>=1.10.0->accelerate) (3.1.4)\n",
      "Requirement already satisfied: sympy==1.13.1 in c:\\users\\sofyen meddeb\\desktop\\venv\\lib\\site-packages (from torch>=1.10.0->accelerate) (1.13.1)\n",
      "Requirement already satisfied: mpmath<1.4,>=1.1.0 in c:\\users\\sofyen meddeb\\desktop\\venv\\lib\\site-packages (from sympy==1.13.1->torch>=1.10.0->accelerate) (1.3.0)\n",
      "Requirement already satisfied: colorama in c:\\users\\sofyen meddeb\\desktop\\venv\\lib\\site-packages (from tqdm>=4.27->transformers) (0.4.6)\n",
      "Requirement already satisfied: zipp>=3.20 in c:\\users\\sofyen meddeb\\desktop\\venv\\lib\\site-packages (from importlib-metadata->diffusers) (3.20.2)\n",
      "Requirement already satisfied: charset-normalizer<4,>=2 in c:\\users\\sofyen meddeb\\desktop\\venv\\lib\\site-packages (from requests->diffusers) (3.4.0)\n",
      "Requirement already satisfied: idna<4,>=2.5 in c:\\users\\sofyen meddeb\\desktop\\venv\\lib\\site-packages (from requests->diffusers) (3.10)\n",
      "Requirement already satisfied: urllib3<3,>=1.21.1 in c:\\users\\sofyen meddeb\\desktop\\venv\\lib\\site-packages (from requests->diffusers) (2.2.3)\n",
      "Requirement already satisfied: certifi>=2017.4.17 in c:\\users\\sofyen meddeb\\desktop\\venv\\lib\\site-packages (from requests->diffusers) (2024.8.30)\n",
      "Requirement already satisfied: MarkupSafe>=2.0 in c:\\users\\sofyen meddeb\\desktop\\venv\\lib\\site-packages (from jinja2->torch>=1.10.0->accelerate) (3.0.1)\n"
     ]
    }
   ],
   "source": [
    "!pip install diffusers transformers accelerate\n"
   ]
  },
  {
   "cell_type": "code",
   "execution_count": null,
   "id": "319111e8-9ad1-4b0b-ac18-0b916bec44e5",
   "metadata": {},
   "outputs": [
    {
     "data": {
      "application/vnd.jupyter.widget-view+json": {
       "model_id": "5a1eea7d00b54c749d4b5818b2042337",
       "version_major": 2,
       "version_minor": 0
      },
      "text/plain": [
       "config.json:   0%|          | 0.00/998 [00:00<?, ?B/s]"
      ]
     },
     "metadata": {},
     "output_type": "display_data"
    },
    {
     "name": "stderr",
     "output_type": "stream",
     "text": [
      "C:\\Users\\Sofyen Meddeb\\Desktop\\venv\\Lib\\site-packages\\huggingface_hub\\file_download.py:139: UserWarning: `huggingface_hub` cache-system uses symlinks by default to efficiently store duplicated files but your machine does not support them in C:\\Users\\Sofyen Meddeb\\.cache\\huggingface\\hub\\models--lllyasviel--control_v11p_sd15_inpaint. Caching files will still work but in a degraded version that might require more space on your disk. This warning can be disabled by setting the `HF_HUB_DISABLE_SYMLINKS_WARNING` environment variable. For more details, see https://huggingface.co/docs/huggingface_hub/how-to-cache#limitations.\n",
      "To support symlinks on Windows, you either need to activate Developer Mode or to run Python as an administrator. In order to activate developer mode, see this article: https://docs.microsoft.com/en-us/windows/apps/get-started/enable-your-device-for-development\n",
      "  warnings.warn(message)\n"
     ]
    },
    {
     "data": {
      "application/vnd.jupyter.widget-view+json": {
       "model_id": "7e30af0cf70a4a91adf378c25ae2a94c",
       "version_major": 2,
       "version_minor": 0
      },
      "text/plain": [
       "diffusion_pytorch_model.safetensors:   0%|          | 0.00/1.45G [00:00<?, ?B/s]"
      ]
     },
     "metadata": {},
     "output_type": "display_data"
    }
   ],
   "source": [
    "# !pip install transformers accelerate\n",
    "from diffusers import StableDiffusionControlNetInpaintPipeline, ControlNetModel\n",
    "from diffusers.utils import load_image\n",
    "import numpy as np\n",
    "import torch\n",
    "\n",
    "init_image = load_image(\n",
    "    \"https://huggingface.co/datasets/diffusers/test-arrays/resolve/main/stable_diffusion_inpaint/boy.png\"\n",
    ")\n",
    "init_image = init_image.resize((512, 512))\n",
    "\n",
    "generator = torch.Generator(device=\"cpu\").manual_seed(1)\n",
    "\n",
    "mask_image = load_image(\n",
    "    \"https://huggingface.co/datasets/diffusers/test-arrays/resolve/main/stable_diffusion_inpaint/boy_mask.png\"\n",
    ")\n",
    "mask_image = mask_image.resize((512, 512))\n",
    "\n",
    "\n",
    "def make_inpaint_condition(image, image_mask):\n",
    "    image = np.array(image.convert(\"RGB\")).astype(np.float32) / 255.0\n",
    "    image_mask = np.array(image_mask.convert(\"L\")).astype(np.float32) / 255.0\n",
    "\n",
    "    assert image.shape[0:1] == image_mask.shape[0:1], \"image and image_mask must have the same image size\"\n",
    "    image[image_mask > 0.5] = -1.0  # set as masked pixel\n",
    "    image = np.expand_dims(image, 0).transpose(0, 3, 1, 2)\n",
    "    image = torch.from_numpy(image)\n",
    "    return image\n",
    "\n",
    "\n",
    "control_image = make_inpaint_condition(init_image, mask_image)\n",
    "\n",
    "controlnet = ControlNetModel.from_pretrained(\n",
    "    \"lllyasviel/control_v11p_sd15_inpaint\", torch_dtype=torch.float16\n",
    ")\n",
    "pipe = StableDiffusionControlNetInpaintPipeline.from_pretrained(\n",
    "    \"runwayml/stable-diffusion-v1-5\", controlnet=controlnet, torch_dtype=torch.float16\n",
    ")\n",
    "\n",
    "pipe.scheduler = DDIMScheduler.from_config(pipe.scheduler.config)\n",
    "pipe.enable_model_cpu_offload()\n",
    "\n",
    "# generate image\n",
    "image = pipe(\n",
    "    \"a handsome man with ray-ban sunglasses\",\n",
    "    num_inference_steps=20,\n",
    "    generator=generator,\n",
    "    eta=1.0,\n",
    "    image=init_image,\n",
    "    mask_image=mask_image,\n",
    "    control_image=control_image,\n",
    ").images[0]\n"
   ]
  },
  {
   "cell_type": "code",
   "execution_count": null,
   "id": "9509640b-ab64-44cf-be44-e3bb91b2da8a",
   "metadata": {},
   "outputs": [],
   "source": []
  }
 ],
 "metadata": {
  "kernelspec": {
   "display_name": "Python 3 (ipykernel)",
   "language": "python",
   "name": "python3"
  },
  "language_info": {
   "codemirror_mode": {
    "name": "ipython",
    "version": 3
   },
   "file_extension": ".py",
   "mimetype": "text/x-python",
   "name": "python",
   "nbconvert_exporter": "python",
   "pygments_lexer": "ipython3",
   "version": "3.11.7"
  }
 },
 "nbformat": 4,
 "nbformat_minor": 5
}
