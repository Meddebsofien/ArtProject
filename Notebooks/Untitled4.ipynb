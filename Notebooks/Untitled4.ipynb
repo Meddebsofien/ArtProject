{
 "cells": [
  {
   "cell_type": "code",
   "execution_count": null,
   "id": "539fef2b-c98b-4f9e-b371-723143a71d72",
   "metadata": {},
   "outputs": [],
   "source": [
    "!pip install controlnet_aux"
   ]
  },
  {
   "cell_type": "code",
   "execution_count": null,
   "id": "2fa480fb-5124-4e17-bf9e-a2cc883a0432",
   "metadata": {},
   "outputs": [],
   "source": [
    "!pip install diffusers transformers accelerate"
   ]
  },
  {
   "cell_type": "code",
   "execution_count": null,
   "id": "8346e143-02b9-49c2-99a5-761ac317720d",
   "metadata": {},
   "outputs": [],
   "source": [
    "import torch\n",
    "import os\n",
    "from huggingface_hub import HfApi\n",
    "from pathlib import Path\n",
    "from diffusers.utils import load_image\n",
    "from PIL import Image\n",
    "import numpy as np\n",
    "from controlnet_aux import OpenposeDetector\n",
    "\n",
    "from diffusers import (\n",
    "    ControlNetModel,\n",
    "    StableDiffusionControlNetPipeline,\n",
    "    UniPCMultistepScheduler,\n",
    ")\n",
    "\n",
    "checkpoint = \"lllyasviel/control_v11p_sd15_openpose\"\n",
    "\n",
    "image = load_image(\n",
    "    \"https://huggingface.co/lllyasviel/control_v11p_sd15_openpose/resolve/main/images/input.png\"\n",
    ")\n",
    "\n",
    "prompt = \"chef in the kitchen\"\n",
    "\n",
    "processor = OpenposeDetector.from_pretrained('lllyasviel/ControlNet')\n",
    "\n",
    "control_image = processor(image, hand_and_face=True)\n",
    "control_image.save(\"./images/control.png\")\n",
    "\n",
    "controlnet = ControlNetModel.from_pretrained(checkpoint, torch_dtype=torch.float16)\n",
    "pipe = StableDiffusionControlNetPipeline.from_pretrained(\n",
    "    \"runwayml/stable-diffusion-v1-5\", controlnet=controlnet, torch_dtype=torch.float16\n",
    ")\n",
    "\n",
    "pipe.scheduler = UniPCMultistepScheduler.from_config(pipe.scheduler.config)\n",
    "pipe.enable_model_cpu_offload()\n",
    "\n",
    "generator = torch.manual_seed(0)\n",
    "image = pipe(prompt, num_inference_steps=30, generator=generator, image=control_image).images[0]\n",
    "\n",
    "image.save('images/image_out.png')\n"
   ]
  }
 ],
 "metadata": {
  "kernelspec": {
   "display_name": "Python 3 (ipykernel)",
   "language": "python",
   "name": "python3"
  },
  "language_info": {
   "codemirror_mode": {
    "name": "ipython",
    "version": 3
   },
   "file_extension": ".py",
   "mimetype": "text/x-python",
   "name": "python",
   "nbconvert_exporter": "python",
   "pygments_lexer": "ipython3",
   "version": "3.11.7"
  }
 },
 "nbformat": 4,
 "nbformat_minor": 5
}
